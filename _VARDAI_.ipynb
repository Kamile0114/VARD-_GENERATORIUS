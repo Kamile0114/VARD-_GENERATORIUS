{
  "nbformat": 4,
  "nbformat_minor": 0,
  "metadata": {
    "colab": {
      "provenance": []
    },
    "kernelspec": {
      "name": "python3",
      "display_name": "Python 3"
    },
    "language_info": {
      "name": "python"
    }
  },
  "cells": [
    {
      "cell_type": "code",
      "execution_count": 33,
      "metadata": {
        "id": "nKruSuw1ynTQ"
      },
      "outputs": [],
      "source": [
        "import torch\n",
        "import torch.nn as nn\n",
        "import torch.optim as optim\n",
        "import numpy as np\n",
        "import pandas as pd\n",
        "import matplotlib.pyplot as plt\n",
        "from torch.utils.data import DataLoader, Dataset\n",
        "from torch.nn.utils.rnn import pad_sequence\n",
        "import requests\n",
        "from bs4 import BeautifulSoup"
      ]
    },
    {
      "cell_type": "code",
      "source": [
        "V_vardai = []\n",
        "M_vardai = []\n",
        "\n",
        "for key in ['a', 'b', 'c', 'c-2', 'd', 'e', 'f', 'g', 'h', 'i', 'j', 'k', 'l',\n",
        "            'm', 'n', 'o', 'p', 'r', 's', 's-2', 't', 'u', 'v', 'z', 'z-2']:\n",
        "    V_url = f'https://vardai.vlkk.lt/sarasas/{key}/?lytis=vyro&kilme='\n",
        "    M_url = f'https://vardai.vlkk.lt/sarasas/{key}/?lytis=moters&kilme='\n",
        "\n",
        "    # Vyrų vardų sąrašas\n",
        "    response = requests.get(V_url)\n",
        "    soup = BeautifulSoup(response.text, 'html.parser')\n",
        "    V_links = soup.find_all('a', class_='names_list__links names_list__links--man')\n",
        "    V_vardai += [name.text for name in V_links]\n",
        "\n",
        "    # Moterų vardų sąrašas\n",
        "    response = requests.get(M_url)\n",
        "    soup = BeautifulSoup(response.text, 'html.parser')\n",
        "    M_links = soup.find_all('a', class_='names_list__links names_list__links--woman')\n",
        "    M_vardai += [name.text for name in M_links]\n",
        "\n",
        "# Išfiltruojame kai kuriuos 'netaikomus' vardus\n",
        "V_vardai = [name for name in V_vardai if name.endswith('s')]\n",
        "M_vardai = [name for name in M_vardai if not (name.endswith('l') or name.endswith('n') or name.endswith('e'))]\n",
        "\n",
        "# Išsaugome vardus\n",
        "np.savetxt('Vyru_vardai.txt', V_vardai, fmt='%s', header='name', comments='', newline='\\n')\n",
        "np.savetxt('Moteru_vardai.txt', M_vardai, fmt='%s', header='name', comments='', newline='\\n')\n",
        "np.savetxt('Visi_vardai.txt', V_vardai + M_vardai, fmt='%s', header='name', comments='', newline='\\n')"
      ],
      "metadata": {
        "id": "_nBz4_ydyrNW"
      },
      "execution_count": 34,
      "outputs": []
    },
    {
      "cell_type": "code",
      "source": [
        "len(V_vardai), len(M_vardai)"
      ],
      "metadata": {
        "colab": {
          "base_uri": "https://localhost:8080/"
        },
        "id": "LMhGARe2yh0w",
        "outputId": "0977354b-2c82-4919-8610-fd8232366088"
      },
      "execution_count": 35,
      "outputs": [
        {
          "output_type": "execute_result",
          "data": {
            "text/plain": [
              "(3409, 4086)"
            ]
          },
          "metadata": {},
          "execution_count": 35
        }
      ]
    },
    {
      "cell_type": "code",
      "source": [
        "with open('Visi_vardai.txt', 'r') as file:\n",
        "    lines = file.readlines()\n",
        "    print(\"\".join(lines[:10]))\n",
        "    print(\"\".join(lines[5000:5010]))"
      ],
      "metadata": {
        "colab": {
          "base_uri": "https://localhost:8080/"
        },
        "id": "t5N6ys4fMwrm",
        "outputId": "7b77c680-ebb3-45dc-bb95-1fcacc9554c7"
      },
      "execution_count": 36,
      "outputs": [
        {
          "output_type": "stream",
          "name": "stdout",
          "text": [
            "name\n",
            "Ãbas\n",
            "Ãbdijus\n",
            "Abdònas\n",
            "Ãbelis\n",
            "Ãbis\n",
            "Abraõmas\n",
            "Abrõmas\n",
            "Achìlas\n",
            "Achmèdas\n",
            "\n",
            "Gìlma\n",
            "Gìlmantė\n",
            "Gìlmė\n",
            "Gìlmina\n",
            "Gìlminta\n",
            "Gìlmintė\n",
            "Gilvidà\n",
            "Gilvìlė\n",
            "Gìlvina\n",
            "Gilvydà\n",
            "\n"
          ]
        }
      ]
    },
    {
      "cell_type": "code",
      "source": [
        "class NameDataset(Dataset):\n",
        "    def __init__(self, male_file, female_file):\n",
        "        male_data = pd.read_csv(male_file, header=None, names=['name'])\n",
        "        female_data = pd.read_csv(female_file, header=None, names=['name'])\n",
        "\n",
        "        male_data['gender'] = 0  # Vyras = 0\n",
        "        female_data['gender'] = 1  # Moteris = 1\n",
        "\n",
        "        # Sujungiame vyrų ir moterų data\n",
        "        self.data = pd.concat([male_data, female_data])\n",
        "        self.names = self.data['name'].str.strip().str.lower().tolist()\n",
        "        self.genders = self.data['gender'].tolist()\n",
        "\n",
        "        # Išrenkame visus unikalius simbolius/raides\n",
        "        all_names = ''.join(self.names)\n",
        "        unwanted_chars = set('xwq')\n",
        "        filtered_chars = [char for char in all_names if char not in unwanted_chars]\n",
        "        self.chars = sorted(set(all_names + ' '))\n",
        "        self.char_to_int = {c: i for i, c in enumerate(self.chars)}\n",
        "        self.int_to_char = {i: c for c, i in self.char_to_int.items()}\n",
        "        self.vocab_size = len(self.chars)\n",
        "\n",
        "    def __len__(self):\n",
        "        return len(self.names)\n",
        "\n",
        "    def __getitem__(self, idx):\n",
        "        name = self.names[idx]\n",
        "        gender = self.genders[idx]\n",
        "        name += ' '  # \"Pabaigos\" žymėjimas\n",
        "        encoded_name = [self.char_to_int[char] for char in name]\n",
        "        return torch.tensor(encoded_name, dtype=torch.long), torch.tensor(gender, dtype=torch.long)\n"
      ],
      "metadata": {
        "id": "EcUKC6nfyuVS"
      },
      "execution_count": 37,
      "outputs": []
    },
    {
      "cell_type": "code",
      "source": [
        "def pad_collate(batch):\n",
        "    names, genders = zip(*batch)\n",
        "    padded_seqs = pad_sequence(names, batch_first=True, padding_value=0)\n",
        "    input_seq = padded_seqs[:, :-1]\n",
        "    target_seq = padded_seqs[:, 1:]\n",
        "    genders = torch.stack(genders)\n",
        "    return input_seq, target_seq, genders"
      ],
      "metadata": {
        "id": "b6e5M1Y6y-Cr"
      },
      "execution_count": 38,
      "outputs": []
    },
    {
      "cell_type": "code",
      "source": [
        "# Sukuriame dataset'ą ir dataloader'į treniravimui\n",
        "dataset = NameDataset('Vyru_vardai.txt', 'Moteru_vardai.txt')\n",
        "loader = DataLoader(dataset, batch_size=32, collate_fn=pad_collate, shuffle=True)\n",
        "\n",
        "for input_seq, target_seq, genders in loader:\n",
        "    print(f\"Input shape: {input_seq.shape}, Target shape: {target_seq.shape}, Gender shape: {genders.shape}\")\n",
        "    break"
      ],
      "metadata": {
        "colab": {
          "base_uri": "https://localhost:8080/"
        },
        "id": "juShCcC7y9_4",
        "outputId": "95c8a16f-7d29-468e-d0cc-1f80420ff2bd"
      },
      "execution_count": 39,
      "outputs": [
        {
          "output_type": "stream",
          "name": "stdout",
          "text": [
            "Input shape: torch.Size([32, 13]), Target shape: torch.Size([32, 13]), Gender shape: torch.Size([32])\n"
          ]
        }
      ]
    },
    {
      "cell_type": "code",
      "source": [
        "class GenderAwareTransformer(nn.Module):\n",
        "    def __init__(self, vocab_size, embed_size, num_heads, forward_expansion):\n",
        "        super(GenderAwareTransformer, self).__init__()\n",
        "        self.embed = nn.Embedding(vocab_size, embed_size)\n",
        "        self.gender_embed = nn.Embedding(2, embed_size)\n",
        "        self.positional_encoding = nn.Parameter(torch.randn(1, 100, embed_size))\n",
        "        self.encoder_layer = nn.TransformerEncoderLayer(d_model=embed_size, nhead=num_heads)\n",
        "        self.transformer_encoder = nn.TransformerEncoder(self.encoder_layer, num_layers=1)\n",
        "        self.output_layer = nn.Linear(embed_size, vocab_size)  # output_layer sekančio simbolio nuspėjimui\n",
        "\n",
        "    def forward(self, x, gender):\n",
        "        char_embeddings = self.embed(x)\n",
        "        gender_embeddings = self.gender_embed(gender).unsqueeze(1).expand(-1, x.size(1), -1)\n",
        "        x = char_embeddings + gender_embeddings + self.positional_encoding[:, :x.size(1), :]\n",
        "        x = self.transformer_encoder(x)\n",
        "        x = self.output_layer(x)\n",
        "        return x"
      ],
      "metadata": {
        "id": "YBI1uidUy99P"
      },
      "execution_count": 45,
      "outputs": []
    },
    {
      "cell_type": "code",
      "source": [
        "# Training Loop\n",
        "def train_model(model, dataloader, epochs=200):\n",
        "    criterion = nn.CrossEntropyLoss()\n",
        "    optimizer = optim.Adam(model.parameters())\n",
        "\n",
        "    for epoch in range(epochs):\n",
        "        model.train()\n",
        "        total_loss = 0.0\n",
        "        batch_count = 0\n",
        "\n",
        "        for batch_idx, (input_seq, target_seq, genders) in enumerate(dataloader):\n",
        "            optimizer.zero_grad()\n",
        "            output = model(input_seq, genders)\n",
        "            loss = criterion(output.transpose(1, 2), target_seq) # Loss apskaičiavimas\n",
        "            loss.backward()\n",
        "            optimizer.step() # Atnaujiname modelio parametrus\n",
        "\n",
        "            total_loss += loss.item()\n",
        "            batch_count += 1\n",
        "\n",
        "        average_loss = total_loss / batch_count\n",
        "        print(f'Epoch {epoch+1}, Average Loss: {average_loss}')"
      ],
      "metadata": {
        "id": "KDx9Ez7Jy96p"
      },
      "execution_count": 49,
      "outputs": []
    },
    {
      "cell_type": "code",
      "source": [
        "def sample(model, dataset, gender, start_str='a', max_length=20, temperature=1.0):\n",
        "    assert temperature > 0, \"Temperature must be greater than 0\"\n",
        "    model.eval()\n",
        "    with torch.no_grad():\n",
        "        start_str = start_str.lower()\n",
        "        chars = [dataset.char_to_int[c] for c in start_str]\n",
        "        input_seq = torch.tensor(chars).unsqueeze(0)\n",
        "        gender_tensor = torch.tensor([gender]) # Vyrui 0, moteriai 1\n",
        "\n",
        "        output_name = start_str\n",
        "        last_char = start_str[-1]  # Sekame paskutinį simbolį, kad išvengtume jo pasikartojimo (dar ne itin pavyko)\n",
        "\n",
        "        for _ in range(max_length - len(start_str)):\n",
        "            output = model(input_seq, gender_tensor)\n",
        "            probabilities = torch.softmax(output[0, -1], dim=0)\n",
        "\n",
        "            # temperature\n",
        "            logits = output[0, -1] / temperature\n",
        "            probabilities = torch.softmax(logits, dim=0)\n",
        "\n",
        "            next_char_idx = torch.multinomial(probabilities, 1).item()\n",
        "            next_char = dataset.int_to_char[next_char_idx]\n",
        "\n",
        "            while next_char == last_char:\n",
        "                next_char_idx = torch.multinomial(probabilities, 1).item()\n",
        "                next_char = dataset.int_to_char[next_char_idx]\n",
        "\n",
        "            if next_char == ' ':\n",
        "                break\n",
        "\n",
        "            output_name += next_char\n",
        "            input_seq = torch.cat([input_seq, torch.tensor([[next_char_idx]])], dim=1)\n",
        "\n",
        "        return output_name.capitalize()"
      ],
      "metadata": {
        "id": "KILnuiTIy94T"
      },
      "execution_count": 50,
      "outputs": []
    },
    {
      "cell_type": "code",
      "source": [
        "dataset = NameDataset('Vyru_vardai.txt', 'Moteru_vardai.txt')\n",
        "dataloader = DataLoader(dataset, batch_size=32, shuffle=True, collate_fn=pad_collate)\n",
        "\n",
        "model = GenderAwareTransformer(\n",
        "    vocab_size=dataset.vocab_size,\n",
        "    embed_size=128,\n",
        "    num_heads=8,\n",
        "    forward_expansion=4\n",
        ")\n",
        "train_model(model, dataloader)"
      ],
      "metadata": {
        "colab": {
          "base_uri": "https://localhost:8080/"
        },
        "id": "zzn0FiP6y91f",
        "outputId": "5cb32b85-e080-46a4-923a-115c4f9e4d44"
      },
      "execution_count": 53,
      "outputs": [
        {
          "output_type": "stream",
          "name": "stderr",
          "text": [
            "/usr/local/lib/python3.10/dist-packages/torch/nn/modules/transformer.py:379: UserWarning: enable_nested_tensor is True, but self.use_nested_tensor is False because encoder_layer.self_attn.batch_first was not True(use batch_first for better inference performance)\n",
            "  warnings.warn(\n"
          ]
        },
        {
          "output_type": "stream",
          "name": "stdout",
          "text": [
            "Epoch 1, Average Loss: 1.4574629306793212\n",
            "Epoch 2, Average Loss: 1.2995715661251799\n",
            "Epoch 3, Average Loss: 1.277180378995043\n",
            "Epoch 4, Average Loss: 1.2620344123941787\n",
            "Epoch 5, Average Loss: 1.2571487538358\n",
            "Epoch 6, Average Loss: 1.245712035260302\n",
            "Epoch 7, Average Loss: 1.2494140800009383\n",
            "Epoch 8, Average Loss: 1.2408468096814258\n",
            "Epoch 9, Average Loss: 1.2404967125425947\n",
            "Epoch 10, Average Loss: 1.2400148612387636\n",
            "Epoch 11, Average Loss: 1.2364144401347383\n",
            "Epoch 12, Average Loss: 1.2314147005689906\n",
            "Epoch 13, Average Loss: 1.2308814495167835\n",
            "Epoch 14, Average Loss: 1.2230554116533157\n",
            "Epoch 15, Average Loss: 1.22897598641984\n",
            "Epoch 16, Average Loss: 1.2270841060800755\n",
            "Epoch 17, Average Loss: 1.2214161664881604\n",
            "Epoch 18, Average Loss: 1.22783832930504\n",
            "Epoch 19, Average Loss: 1.2236197743010013\n",
            "Epoch 20, Average Loss: 1.2198904539676423\n",
            "Epoch 21, Average Loss: 1.2151174524997144\n",
            "Epoch 22, Average Loss: 1.2154123937830013\n",
            "Epoch 23, Average Loss: 1.213952491892145\n",
            "Epoch 24, Average Loss: 1.2148121765319337\n",
            "Epoch 25, Average Loss: 1.2137972380252595\n",
            "Epoch 26, Average Loss: 1.2150267849577234\n",
            "Epoch 27, Average Loss: 1.2177995965835895\n",
            "Epoch 28, Average Loss: 1.2112403382646277\n",
            "Epoch 29, Average Loss: 1.2103204153953715\n",
            "Epoch 30, Average Loss: 1.214871710158409\n",
            "Epoch 31, Average Loss: 1.2142448344129197\n",
            "Epoch 32, Average Loss: 1.2048477992098383\n",
            "Epoch 33, Average Loss: 1.2020420082071994\n",
            "Epoch 34, Average Loss: 1.212158090510267\n",
            "Epoch 35, Average Loss: 1.2076928666297426\n",
            "Epoch 36, Average Loss: 1.2068234945865388\n",
            "Epoch 37, Average Loss: 1.2092575570370288\n",
            "Epoch 38, Average Loss: 1.2055140690600619\n",
            "Epoch 39, Average Loss: 1.2081687767454918\n",
            "Epoch 40, Average Loss: 1.2097461588839267\n",
            "Epoch 41, Average Loss: 1.203062014884137\n",
            "Epoch 42, Average Loss: 1.2122801674173234\n",
            "Epoch 43, Average Loss: 1.2079096261491167\n",
            "Epoch 44, Average Loss: 1.2077375236977923\n",
            "Epoch 45, Average Loss: 1.2061362936141644\n",
            "Epoch 46, Average Loss: 1.2017095198022558\n",
            "Epoch 47, Average Loss: 1.2036486235070736\n",
            "Epoch 48, Average Loss: 1.208865314341606\n",
            "Epoch 49, Average Loss: 1.2006829713253264\n",
            "Epoch 50, Average Loss: 1.2009296064681194\n",
            "Epoch 51, Average Loss: 1.2019555667613415\n",
            "Epoch 52, Average Loss: 1.1945927754361578\n",
            "Epoch 53, Average Loss: 1.2018079034825588\n",
            "Epoch 54, Average Loss: 1.1988562837560126\n",
            "Epoch 55, Average Loss: 1.201242202393552\n",
            "Epoch 56, Average Loss: 1.1994273147684462\n",
            "Epoch 57, Average Loss: 1.1996336056831036\n",
            "Epoch 58, Average Loss: 1.1953841498557558\n",
            "Epoch 59, Average Loss: 1.1984620933837078\n",
            "Epoch 60, Average Loss: 1.1989315466677888\n",
            "Epoch 61, Average Loss: 1.2003402499442404\n",
            "Epoch 62, Average Loss: 1.1998119782894217\n",
            "Epoch 63, Average Loss: 1.1991089201988059\n",
            "Epoch 64, Average Loss: 1.194756716870247\n",
            "Epoch 65, Average Loss: 1.1947815151924783\n",
            "Epoch 66, Average Loss: 1.1981723047317343\n",
            "Epoch 67, Average Loss: 1.2039989938127234\n",
            "Epoch 68, Average Loss: 1.2006014227867126\n",
            "Epoch 69, Average Loss: 1.1973600149154664\n",
            "Epoch 70, Average Loss: 1.1919835009473436\n",
            "Epoch 71, Average Loss: 1.19545706180816\n",
            "Epoch 72, Average Loss: 1.1986613948294458\n",
            "Epoch 73, Average Loss: 1.1966227201705284\n",
            "Epoch 74, Average Loss: 1.1964030022316792\n",
            "Epoch 75, Average Loss: 1.1970359728691427\n",
            "Epoch 76, Average Loss: 1.1975571360993893\n",
            "Epoch 77, Average Loss: 1.1947093978841254\n",
            "Epoch 78, Average Loss: 1.1991013430534525\n",
            "Epoch 79, Average Loss: 1.1925920844078064\n",
            "Epoch 80, Average Loss: 1.1953115298392925\n",
            "Epoch 81, Average Loss: 1.1912899232925254\n",
            "Epoch 82, Average Loss: 1.19559039207215\n",
            "Epoch 83, Average Loss: 1.191238831205571\n",
            "Epoch 84, Average Loss: 1.1946412172723324\n",
            "Epoch 85, Average Loss: 1.1921561532832206\n",
            "Epoch 86, Average Loss: 1.1946058648697873\n",
            "Epoch 87, Average Loss: 1.1902756181169063\n",
            "Epoch 88, Average Loss: 1.1988439001935594\n",
            "Epoch 89, Average Loss: 1.1950996682998982\n",
            "Epoch 90, Average Loss: 1.1934112454982515\n",
            "Epoch 91, Average Loss: 1.1966257917120102\n",
            "Epoch 92, Average Loss: 1.1918474390151652\n",
            "Epoch 93, Average Loss: 1.1952800651814075\n",
            "Epoch 94, Average Loss: 1.1900488858527325\n",
            "Epoch 95, Average Loss: 1.1956281925769563\n",
            "Epoch 96, Average Loss: 1.1938986273522072\n",
            "Epoch 97, Average Loss: 1.1896572356528423\n",
            "Epoch 98, Average Loss: 1.196141011664208\n",
            "Epoch 99, Average Loss: 1.1906362924169986\n",
            "Epoch 100, Average Loss: 1.1909670193144615\n",
            "Epoch 101, Average Loss: 1.1896781294903858\n",
            "Epoch 102, Average Loss: 1.1919479207789645\n",
            "Epoch 103, Average Loss: 1.191723359645681\n",
            "Epoch 104, Average Loss: 1.1896145845981354\n",
            "Epoch 105, Average Loss: 1.1898353401650774\n",
            "Epoch 106, Average Loss: 1.193475392777869\n",
            "Epoch 107, Average Loss: 1.1879734650571296\n",
            "Epoch 108, Average Loss: 1.1893962406097573\n",
            "Epoch 109, Average Loss: 1.190332859627744\n",
            "Epoch 110, Average Loss: 1.1879965290110162\n",
            "Epoch 111, Average Loss: 1.1969648787315856\n",
            "Epoch 112, Average Loss: 1.1869890233303637\n",
            "Epoch 113, Average Loss: 1.1899320731771754\n",
            "Epoch 114, Average Loss: 1.1945708279914045\n",
            "Epoch 115, Average Loss: 1.1918450497566386\n",
            "Epoch 116, Average Loss: 1.1914225207998397\n",
            "Epoch 117, Average Loss: 1.19448176444845\n",
            "Epoch 118, Average Loss: 1.1864108293614488\n",
            "Epoch 119, Average Loss: 1.2000916534281791\n",
            "Epoch 120, Average Loss: 1.1943871693408235\n",
            "Epoch 121, Average Loss: 1.1906148441294406\n",
            "Epoch 122, Average Loss: 1.186076123156446\n",
            "Epoch 123, Average Loss: 1.1884950376571493\n",
            "Epoch 124, Average Loss: 1.193788244369182\n",
            "Epoch 125, Average Loss: 1.1912391025969322\n",
            "Epoch 126, Average Loss: 1.1923297991143895\n",
            "Epoch 127, Average Loss: 1.1983522684016126\n",
            "Epoch 128, Average Loss: 1.1890520435698488\n",
            "Epoch 129, Average Loss: 1.1858995384358346\n",
            "Epoch 130, Average Loss: 1.1874449838983252\n",
            "Epoch 131, Average Loss: 1.194231920293037\n",
            "Epoch 132, Average Loss: 1.1885164037663887\n",
            "Epoch 133, Average Loss: 1.1903480316730255\n",
            "Epoch 134, Average Loss: 1.188267540678065\n",
            "Epoch 135, Average Loss: 1.1854097668160783\n",
            "Epoch 136, Average Loss: 1.1880697088038668\n",
            "Epoch 137, Average Loss: 1.1831537490195416\n",
            "Epoch 138, Average Loss: 1.1868144989013671\n",
            "Epoch 139, Average Loss: 1.1877967405826488\n",
            "Epoch 140, Average Loss: 1.1870362312235732\n",
            "Epoch 141, Average Loss: 1.1854112130530337\n",
            "Epoch 142, Average Loss: 1.1891938052278883\n",
            "Epoch 143, Average Loss: 1.1942356883211338\n",
            "Epoch 144, Average Loss: 1.1875434611706024\n",
            "Epoch 145, Average Loss: 1.1861164952846284\n",
            "Epoch 146, Average Loss: 1.1864566069968203\n",
            "Epoch 147, Average Loss: 1.1842506089109055\n",
            "Epoch 148, Average Loss: 1.1914080102392968\n",
            "Epoch 149, Average Loss: 1.1908698183424928\n",
            "Epoch 150, Average Loss: 1.1869184823746377\n",
            "Epoch 151, Average Loss: 1.187443162278926\n",
            "Epoch 152, Average Loss: 1.1868893945470769\n",
            "Epoch 153, Average Loss: 1.1837376432215914\n",
            "Epoch 154, Average Loss: 1.1861486622627746\n",
            "Epoch 155, Average Loss: 1.1841059874981008\n",
            "Epoch 156, Average Loss: 1.1921058525430395\n",
            "Epoch 157, Average Loss: 1.1917094846989247\n",
            "Epoch 158, Average Loss: 1.1909110764239697\n",
            "Epoch 159, Average Loss: 1.1853645416016274\n",
            "Epoch 160, Average Loss: 1.191740884679429\n",
            "Epoch 161, Average Loss: 1.185208545847142\n",
            "Epoch 162, Average Loss: 1.1872199756033877\n",
            "Epoch 163, Average Loss: 1.1939026797071417\n",
            "Epoch 164, Average Loss: 1.1835818529129027\n",
            "Epoch 165, Average Loss: 1.1893246696350421\n",
            "Epoch 166, Average Loss: 1.1830725045914345\n",
            "Epoch 167, Average Loss: 1.18820300330507\n",
            "Epoch 168, Average Loss: 1.1927268393496249\n",
            "Epoch 169, Average Loss: 1.1851996317822882\n",
            "Epoch 170, Average Loss: 1.1872154065903198\n",
            "Epoch 171, Average Loss: 1.1842418066998746\n",
            "Epoch 172, Average Loss: 1.191323830472662\n",
            "Epoch 173, Average Loss: 1.192832205904291\n",
            "Epoch 174, Average Loss: 1.1886268793268406\n",
            "Epoch 175, Average Loss: 1.186780179054179\n",
            "Epoch 176, Average Loss: 1.1939584836046746\n",
            "Epoch 177, Average Loss: 1.1838997407162444\n",
            "Epoch 178, Average Loss: 1.1878815067575332\n",
            "Epoch 179, Average Loss: 1.1862415998540026\n",
            "Epoch 180, Average Loss: 1.1873359900839786\n",
            "Epoch 181, Average Loss: 1.1804623274092978\n",
            "Epoch 182, Average Loss: 1.189962855805742\n",
            "Epoch 183, Average Loss: 1.1849037926247779\n",
            "Epoch 184, Average Loss: 1.179966591774149\n",
            "Epoch 185, Average Loss: 1.1869987784548008\n",
            "Epoch 186, Average Loss: 1.1799653847166833\n",
            "Epoch 187, Average Loss: 1.1799963938429001\n",
            "Epoch 188, Average Loss: 1.1834778506705101\n",
            "Epoch 189, Average Loss: 1.1823367958373212\n",
            "Epoch 190, Average Loss: 1.1863956563016202\n",
            "Epoch 191, Average Loss: 1.1851716974948314\n",
            "Epoch 192, Average Loss: 1.1829953262146482\n",
            "Epoch 193, Average Loss: 1.1882470726966858\n",
            "Epoch 194, Average Loss: 1.187296038231951\n",
            "Epoch 195, Average Loss: 1.1838698184236567\n",
            "Epoch 196, Average Loss: 1.1817201621988986\n",
            "Epoch 197, Average Loss: 1.1909981758036512\n",
            "Epoch 198, Average Loss: 1.1843799722955581\n",
            "Epoch 199, Average Loss: 1.1841575348630864\n",
            "Epoch 200, Average Loss: 1.1861124277114867\n"
          ]
        }
      ]
    },
    {
      "cell_type": "code",
      "source": [
        "import random\n",
        "\n",
        "print(\"Vyrų vardai:\")\n",
        "for _ in range(10):\n",
        "    random_start_letter = random.choice(dataset.chars)\n",
        "    name = sample(model, dataset, gender=0, start_str='R', temperature=0.5)\n",
        "    print(name)\n",
        "\n",
        "print(\"\\nMoterų vardai:\")\n",
        "for _ in range(10):\n",
        "    random_start_letter = random.choice(dataset.chars)\n",
        "    name = sample(model, dataset, gender=1, start_str=random_start_letter, temperature=0.5)\n",
        "    print(name)"
      ],
      "metadata": {
        "colab": {
          "base_uri": "https://localhost:8080/"
        },
        "id": "g1zi7U6py9xC",
        "outputId": "5a8ade29-563a-4775-84a8-3e1e3b03c1d8"
      },
      "execution_count": 54,
      "outputs": [
        {
          "output_type": "stream",
          "name": "stdout",
          "text": [
            "Vyrų vardai:\n",
            "Rãvis\n",
            "Rãstas\n",
            "Rañdijus\n",
            "Rãgijus\n",
            "Raũmas\n",
            "Ralìnas\n",
            "Rìnijus\n",
            "Rãstas\n",
            "Rìnìlijus\n",
            "Rìsìlis\n",
            "\n",
            "Moterų vardai:\n",
            "Ìnana\n",
            "Čerì\n",
            "Ą́ustė\n",
            "Ẽgnena\n",
            "Òl̃nà\n",
            "Órūcija\n",
            "Ýniencija\n",
            "Šarima\n",
            "Alìlijontė\n",
            "Õnzà\n"
          ]
        }
      ]
    },
    {
      "cell_type": "code",
      "source": [
        "torch.save(model.state_dict(), '/content/name_model.pt')\n",
        "\n",
        "mappings = {\n",
        "    'char_to_int': dataset.char_to_int,\n",
        "    'int_to_char': {str(k): v for k, v in dataset.int_to_char.items()},\n",
        "    'vocab_size': dataset.vocab_size\n",
        "}\n",
        "import json\n",
        "with open('/content/name_mappings.json', 'w', encoding='utf-8') as f:\n",
        "    json.dump(mappings, f, ensure_ascii=False, indent=2)"
      ],
      "metadata": {
        "id": "_0a4yKYuVlOt"
      },
      "execution_count": 55,
      "outputs": []
    },
    {
      "cell_type": "code",
      "source": [
        "from google.colab import files\n",
        "files.download('/content/name_model.pt')"
      ],
      "metadata": {
        "colab": {
          "base_uri": "https://localhost:8080/",
          "height": 17
        },
        "id": "UnkwtJNJ6OaA",
        "outputId": "e9925d93-207d-446f-c06e-e5fde12d411a"
      },
      "execution_count": 56,
      "outputs": [
        {
          "output_type": "display_data",
          "data": {
            "text/plain": [
              "<IPython.core.display.Javascript object>"
            ],
            "application/javascript": [
              "\n",
              "    async function download(id, filename, size) {\n",
              "      if (!google.colab.kernel.accessAllowed) {\n",
              "        return;\n",
              "      }\n",
              "      const div = document.createElement('div');\n",
              "      const label = document.createElement('label');\n",
              "      label.textContent = `Downloading \"${filename}\": `;\n",
              "      div.appendChild(label);\n",
              "      const progress = document.createElement('progress');\n",
              "      progress.max = size;\n",
              "      div.appendChild(progress);\n",
              "      document.body.appendChild(div);\n",
              "\n",
              "      const buffers = [];\n",
              "      let downloaded = 0;\n",
              "\n",
              "      const channel = await google.colab.kernel.comms.open(id);\n",
              "      // Send a message to notify the kernel that we're ready.\n",
              "      channel.send({})\n",
              "\n",
              "      for await (const message of channel.messages) {\n",
              "        // Send a message to notify the kernel that we're ready.\n",
              "        channel.send({})\n",
              "        if (message.buffers) {\n",
              "          for (const buffer of message.buffers) {\n",
              "            buffers.push(buffer);\n",
              "            downloaded += buffer.byteLength;\n",
              "            progress.value = downloaded;\n",
              "          }\n",
              "        }\n",
              "      }\n",
              "      const blob = new Blob(buffers, {type: 'application/binary'});\n",
              "      const a = document.createElement('a');\n",
              "      a.href = window.URL.createObjectURL(blob);\n",
              "      a.download = filename;\n",
              "      div.appendChild(a);\n",
              "      a.click();\n",
              "      div.remove();\n",
              "    }\n",
              "  "
            ]
          },
          "metadata": {}
        },
        {
          "output_type": "display_data",
          "data": {
            "text/plain": [
              "<IPython.core.display.Javascript object>"
            ],
            "application/javascript": [
              "download(\"download_b269afc5-4e8c-4c26-bdb7-a512450f6d34\", \"name_model.pt\", 4859234)"
            ]
          },
          "metadata": {}
        }
      ]
    },
    {
      "cell_type": "code",
      "source": [
        "from google.colab import files\n",
        "files.download('/content/name_mappings.json')\n"
      ],
      "metadata": {
        "colab": {
          "base_uri": "https://localhost:8080/",
          "height": 17
        },
        "id": "-ZZN5KM16V6P",
        "outputId": "f442b2cb-c26f-4479-a669-89a12b3e1ddd"
      },
      "execution_count": 57,
      "outputs": [
        {
          "output_type": "display_data",
          "data": {
            "text/plain": [
              "<IPython.core.display.Javascript object>"
            ],
            "application/javascript": [
              "\n",
              "    async function download(id, filename, size) {\n",
              "      if (!google.colab.kernel.accessAllowed) {\n",
              "        return;\n",
              "      }\n",
              "      const div = document.createElement('div');\n",
              "      const label = document.createElement('label');\n",
              "      label.textContent = `Downloading \"${filename}\": `;\n",
              "      div.appendChild(label);\n",
              "      const progress = document.createElement('progress');\n",
              "      progress.max = size;\n",
              "      div.appendChild(progress);\n",
              "      document.body.appendChild(div);\n",
              "\n",
              "      const buffers = [];\n",
              "      let downloaded = 0;\n",
              "\n",
              "      const channel = await google.colab.kernel.comms.open(id);\n",
              "      // Send a message to notify the kernel that we're ready.\n",
              "      channel.send({})\n",
              "\n",
              "      for await (const message of channel.messages) {\n",
              "        // Send a message to notify the kernel that we're ready.\n",
              "        channel.send({})\n",
              "        if (message.buffers) {\n",
              "          for (const buffer of message.buffers) {\n",
              "            buffers.push(buffer);\n",
              "            downloaded += buffer.byteLength;\n",
              "            progress.value = downloaded;\n",
              "          }\n",
              "        }\n",
              "      }\n",
              "      const blob = new Blob(buffers, {type: 'application/binary'});\n",
              "      const a = document.createElement('a');\n",
              "      a.href = window.URL.createObjectURL(blob);\n",
              "      a.download = filename;\n",
              "      div.appendChild(a);\n",
              "      a.click();\n",
              "      div.remove();\n",
              "    }\n",
              "  "
            ]
          },
          "metadata": {}
        },
        {
          "output_type": "display_data",
          "data": {
            "text/plain": [
              "<IPython.core.display.Javascript object>"
            ],
            "application/javascript": [
              "download(\"download_5b6d7189-777b-401e-a6d2-a26822321a81\", \"name_mappings.json\", 1532)"
            ]
          },
          "metadata": {}
        }
      ]
    },
    {
      "cell_type": "code",
      "source": [
        "from google.colab import files\n",
        "files.download('Vyru_vardai.txt')\n",
        "files.download('Moteru_vardai.txt')"
      ],
      "metadata": {
        "colab": {
          "base_uri": "https://localhost:8080/",
          "height": 17
        },
        "id": "UHZAqjY6_UH_",
        "outputId": "567f5b24-b056-4145-a5ee-3d776e377f8a"
      },
      "execution_count": 58,
      "outputs": [
        {
          "output_type": "display_data",
          "data": {
            "text/plain": [
              "<IPython.core.display.Javascript object>"
            ],
            "application/javascript": [
              "\n",
              "    async function download(id, filename, size) {\n",
              "      if (!google.colab.kernel.accessAllowed) {\n",
              "        return;\n",
              "      }\n",
              "      const div = document.createElement('div');\n",
              "      const label = document.createElement('label');\n",
              "      label.textContent = `Downloading \"${filename}\": `;\n",
              "      div.appendChild(label);\n",
              "      const progress = document.createElement('progress');\n",
              "      progress.max = size;\n",
              "      div.appendChild(progress);\n",
              "      document.body.appendChild(div);\n",
              "\n",
              "      const buffers = [];\n",
              "      let downloaded = 0;\n",
              "\n",
              "      const channel = await google.colab.kernel.comms.open(id);\n",
              "      // Send a message to notify the kernel that we're ready.\n",
              "      channel.send({})\n",
              "\n",
              "      for await (const message of channel.messages) {\n",
              "        // Send a message to notify the kernel that we're ready.\n",
              "        channel.send({})\n",
              "        if (message.buffers) {\n",
              "          for (const buffer of message.buffers) {\n",
              "            buffers.push(buffer);\n",
              "            downloaded += buffer.byteLength;\n",
              "            progress.value = downloaded;\n",
              "          }\n",
              "        }\n",
              "      }\n",
              "      const blob = new Blob(buffers, {type: 'application/binary'});\n",
              "      const a = document.createElement('a');\n",
              "      a.href = window.URL.createObjectURL(blob);\n",
              "      a.download = filename;\n",
              "      div.appendChild(a);\n",
              "      a.click();\n",
              "      div.remove();\n",
              "    }\n",
              "  "
            ]
          },
          "metadata": {}
        },
        {
          "output_type": "display_data",
          "data": {
            "text/plain": [
              "<IPython.core.display.Javascript object>"
            ],
            "application/javascript": [
              "download(\"download_535d166f-b082-44a4-be6b-54a2eea84de8\", \"Vyru_vardai.txt\", 35352)"
            ]
          },
          "metadata": {}
        },
        {
          "output_type": "display_data",
          "data": {
            "text/plain": [
              "<IPython.core.display.Javascript object>"
            ],
            "application/javascript": [
              "\n",
              "    async function download(id, filename, size) {\n",
              "      if (!google.colab.kernel.accessAllowed) {\n",
              "        return;\n",
              "      }\n",
              "      const div = document.createElement('div');\n",
              "      const label = document.createElement('label');\n",
              "      label.textContent = `Downloading \"${filename}\": `;\n",
              "      div.appendChild(label);\n",
              "      const progress = document.createElement('progress');\n",
              "      progress.max = size;\n",
              "      div.appendChild(progress);\n",
              "      document.body.appendChild(div);\n",
              "\n",
              "      const buffers = [];\n",
              "      let downloaded = 0;\n",
              "\n",
              "      const channel = await google.colab.kernel.comms.open(id);\n",
              "      // Send a message to notify the kernel that we're ready.\n",
              "      channel.send({})\n",
              "\n",
              "      for await (const message of channel.messages) {\n",
              "        // Send a message to notify the kernel that we're ready.\n",
              "        channel.send({})\n",
              "        if (message.buffers) {\n",
              "          for (const buffer of message.buffers) {\n",
              "            buffers.push(buffer);\n",
              "            downloaded += buffer.byteLength;\n",
              "            progress.value = downloaded;\n",
              "          }\n",
              "        }\n",
              "      }\n",
              "      const blob = new Blob(buffers, {type: 'application/binary'});\n",
              "      const a = document.createElement('a');\n",
              "      a.href = window.URL.createObjectURL(blob);\n",
              "      a.download = filename;\n",
              "      div.appendChild(a);\n",
              "      a.click();\n",
              "      div.remove();\n",
              "    }\n",
              "  "
            ]
          },
          "metadata": {}
        },
        {
          "output_type": "display_data",
          "data": {
            "text/plain": [
              "<IPython.core.display.Javascript object>"
            ],
            "application/javascript": [
              "download(\"download_1bffdc8d-0867-418b-80fc-3f3b1821053a\", \"Moteru_vardai.txt\", 39053)"
            ]
          },
          "metadata": {}
        }
      ]
    }
  ]
}